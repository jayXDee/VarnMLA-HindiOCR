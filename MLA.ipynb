{
 "cells": [
  {
   "cell_type": "code",
   "execution_count": 1,
   "id": "b9dbcb25",
   "metadata": {},
   "outputs": [],
   "source": [
    "import os\n",
    "import h5py\n",
    "import numpy as np\n",
    "from keras.preprocessing.image import ImageDataGenerator\n",
    "from keras import optimizers\n",
    "import tensorflow as tf\n",
    "from tensorflow.keras.models import Sequential\n",
    "from tensorflow.keras import layers\n",
    "from tensorflow.keras.layers import Convolution2D,MaxPooling2D,Activation, Dropout, Flatten, Dense, BatchNormalization\n",
    "import pickle\n",
    "import cv2\n",
    "from PIL import Image, ImageOps"
   ]
  },
  {
   "cell_type": "code",
   "execution_count": 2,
   "id": "14a075ff",
   "metadata": {},
   "outputs": [],
   "source": [
    "trainDataGen = ImageDataGenerator(\n",
    "        rotation_range = 5,\n",
    "        width_shift_range = 0.1,\n",
    "        height_shift_range = 0.1,\n",
    "        rescale = 1.0/255,\n",
    "        shear_range = 0.2,\n",
    "        zoom_range = 0.2,\t\t\n",
    "        horizontal_flip = False,\n",
    "        fill_mode = 'nearest')"
   ]
  },
  {
   "cell_type": "code",
   "execution_count": 3,
   "id": "0ca1d812",
   "metadata": {},
   "outputs": [
    {
     "name": "stdout",
     "output_type": "stream",
     "text": [
      "Found 78200 images belonging to 46 classes.\n"
     ]
    }
   ],
   "source": [
    "test_datagen = ImageDataGenerator(rescale=1./255)\n",
    "trainGenerator = trainDataGen.flow_from_directory(\n",
    "            \"DevanagariHandwrittenCharacterDataset/Train\",\n",
    "            target_size = (32,32),\n",
    "            batch_size = 32,\n",
    "            color_mode = \"grayscale\",\n",
    "            class_mode = \"categorical\")"
   ]
  },
  {
   "cell_type": "code",
   "execution_count": 4,
   "id": "0323c746",
   "metadata": {},
   "outputs": [],
   "source": [
    "prev = \"\"\n",
    "labels = [\"ka\",\"kha\",\"ga\",\"gha\",\"kna\",\"cha\",\"chha\",\"ja\",\"jha\",\"yna\",\"t`a\",\"t`ha\",\"d`a\",\"d`ha\",\"adna\",\"ta\",\"tha\",\"da\",\"dha\",\"na\",\"pa\",\"pha\",\"ba\",\"bha\",\"ma\",\"yaw\",\"ra\",\"la\",\"waw\",\"sha\",\"shat\",\"sa\",\"ha\",\"aksha\",\"tra\",\"gya\",\"0\",\"1\",\"2\",\"3\",\"4\",\"5\",\"6\",\"7\",\"8\",\"9\"]\n",
    "count = 0;"
   ]
  },
  {
   "cell_type": "code",
   "execution_count": 5,
   "id": "bcdba7d0",
   "metadata": {},
   "outputs": [
    {
     "name": "stdout",
     "output_type": "stream",
     "text": [
      "Found 13800 images belonging to 46 classes.\n"
     ]
    }
   ],
   "source": [
    "validation_generator = test_datagen.flow_from_directory(\n",
    "            \"DevanagariHandwrittenCharacterDataset/Test\",\n",
    "            target_size=(32,32),\n",
    "            batch_size=32,\n",
    "            color_mode = \"grayscale\",\n",
    "            class_mode= 'categorical')"
   ]
  },
  {
   "cell_type": "code",
   "execution_count": 6,
   "id": "07ef2c97",
   "metadata": {},
   "outputs": [
    {
     "name": "stdout",
     "output_type": "stream",
     "text": [
      "Model: \"sequential\"\n",
      "_________________________________________________________________\n",
      " Layer (type)                Output Shape              Param #   \n",
      "=================================================================\n",
      " conv2d (Conv2D)             (None, 30, 30, 32)        320       \n",
      "                                                                 \n",
      " batch_normalization (BatchN  (None, 30, 30, 32)       128       \n",
      " ormalization)                                                   \n",
      "                                                                 \n",
      " max_pooling2d (MaxPooling2D  (None, 15, 15, 32)       0         \n",
      " )                                                               \n",
      "                                                                 \n",
      " conv2d_1 (Conv2D)           (None, 13, 13, 32)        9248      \n",
      "                                                                 \n",
      " batch_normalization_1 (Batc  (None, 13, 13, 32)       128       \n",
      " hNormalization)                                                 \n",
      "                                                                 \n",
      " max_pooling2d_1 (MaxPooling  (None, 7, 7, 32)         0         \n",
      " 2D)                                                             \n",
      "                                                                 \n",
      " conv2d_2 (Conv2D)           (None, 5, 5, 64)          18496     \n",
      "                                                                 \n",
      " batch_normalization_2 (Batc  (None, 5, 5, 64)         256       \n",
      " hNormalization)                                                 \n",
      "                                                                 \n",
      " max_pooling2d_2 (MaxPooling  (None, 3, 3, 64)         0         \n",
      " 2D)                                                             \n",
      "                                                                 \n",
      " conv2d_3 (Conv2D)           (None, 1, 1, 64)          36928     \n",
      "                                                                 \n",
      " batch_normalization_3 (Batc  (None, 1, 1, 64)         256       \n",
      " hNormalization)                                                 \n",
      "                                                                 \n",
      " max_pooling2d_3 (MaxPooling  (None, 1, 1, 64)         0         \n",
      " 2D)                                                             \n",
      "                                                                 \n",
      " flatten (Flatten)           (None, 64)                0         \n",
      "                                                                 \n",
      " dense (Dense)               (None, 128)               8320      \n",
      "                                                                 \n",
      " batch_normalization_4 (Batc  (None, 128)              512       \n",
      " hNormalization)                                                 \n",
      "                                                                 \n",
      " dense_1 (Dense)             (None, 64)                8256      \n",
      "                                                                 \n",
      " batch_normalization_5 (Batc  (None, 64)               256       \n",
      " hNormalization)                                                 \n",
      "                                                                 \n",
      " dense_2 (Dense)             (None, 46)                2990      \n",
      "                                                                 \n",
      "=================================================================\n",
      "Total params: 86,094\n",
      "Trainable params: 85,326\n",
      "Non-trainable params: 768\n",
      "_________________________________________________________________\n",
      "None\n",
      "Epoch 1/10\n",
      "2444/2444 [==============================] - 66s 26ms/step - loss: 0.7899 - accuracy: 0.7819 - val_loss: 0.1563 - val_accuracy: 0.9519\n",
      "Epoch 2/10\n",
      "2444/2444 [==============================] - 63s 26ms/step - loss: 0.2867 - accuracy: 0.9107 - val_loss: 0.1919 - val_accuracy: 0.9365\n",
      "Epoch 3/10\n",
      "2444/2444 [==============================] - 59s 24ms/step - loss: 0.2231 - accuracy: 0.9302 - val_loss: 0.0912 - val_accuracy: 0.9717\n",
      "Epoch 4/10\n",
      "2444/2444 [==============================] - 59s 24ms/step - loss: 0.1900 - accuracy: 0.9419 - val_loss: 0.1042 - val_accuracy: 0.9685\n",
      "Epoch 5/10\n",
      "2444/2444 [==============================] - 59s 24ms/step - loss: 0.1720 - accuracy: 0.9473 - val_loss: 0.0646 - val_accuracy: 0.9814\n",
      "Epoch 6/10\n",
      "2444/2444 [==============================] - 59s 24ms/step - loss: 0.1527 - accuracy: 0.9530 - val_loss: 0.0695 - val_accuracy: 0.9787\n",
      "Epoch 7/10\n",
      "2444/2444 [==============================] - 59s 24ms/step - loss: 0.1441 - accuracy: 0.9546 - val_loss: 0.0748 - val_accuracy: 0.9762\n",
      "Epoch 8/10\n",
      "2444/2444 [==============================] - 59s 24ms/step - loss: 0.1341 - accuracy: 0.9573 - val_loss: 0.0695 - val_accuracy: 0.9777\n",
      "Epoch 9/10\n",
      "2444/2444 [==============================] - 59s 24ms/step - loss: 0.1268 - accuracy: 0.9609 - val_loss: 0.0695 - val_accuracy: 0.9789\n",
      "Epoch 10/10\n",
      "2444/2444 [==============================] - 59s 24ms/step - loss: 0.1143 - accuracy: 0.9641 - val_loss: 0.0645 - val_accuracy: 0.9799\n"
     ]
    }
   ],
   "source": [
    "model = Sequential()\n",
    "\n",
    "#Layer1----------------------------------------------------------\n",
    "model.add(Convolution2D(filters = 32,\n",
    "\t\t\tkernel_size = (3,3),\n",
    "\t\t\tstrides = 1,\n",
    "\t\t\tactivation = \"relu\",\n",
    "\t\t\tinput_shape = (32,32,1)))\n",
    "\n",
    "model.add(BatchNormalization())\n",
    "#model.add(Dropout(0.25))\n",
    "model.add(MaxPooling2D(pool_size=(2, 2),\n",
    "\t\t\tstrides=(2, 2),\n",
    "\t\t\tpadding=\"same\"))\n",
    "\n",
    "#Layer2-------------------------------------------------------------\n",
    "model.add(Convolution2D(filters = 32,\n",
    "\t\t\tkernel_size = (3,3),\n",
    "\t\t\tstrides = 1,\n",
    "\t\t\tactivation = \"relu\",\n",
    "\t\t\tinput_shape = (32,32,1)))\n",
    "model.add(BatchNormalization())\n",
    "#model.add(MaxPooling2D())\n",
    "model.add(MaxPooling2D(pool_size=(2, 2),\n",
    "\t\t\tstrides=(2, 2),\n",
    "\t\t\tpadding=\"same\"))\n",
    "#model.add(Dropout(0.25))\n",
    "\n",
    "\n",
    "#Layers 3-----------------------------------------------------------\t\n",
    "model.add(Convolution2D(filters = 64,\n",
    "\t\t\tkernel_size = (3,3),\n",
    "\t\t\tstrides = 1,\n",
    "\t\t\tactivation = \"relu\"))\n",
    "model.add(BatchNormalization())\n",
    "model.add(MaxPooling2D(pool_size=(2, 2),\n",
    "\t\t\tstrides=(2, 2),\n",
    "\t\t\tpadding=\"same\"))\n",
    "\n",
    "\n",
    "#Layer 4--------------------------------------------------\n",
    "model.add(Convolution2D(filters = 64,\n",
    "\t\t\tkernel_size = (3,3),\n",
    "\t\t\tstrides= 1,\n",
    "\t\t\tactivation = \"relu\"))\n",
    "model.add(BatchNormalization())\n",
    "model.add(MaxPooling2D(pool_size=(2, 2),\n",
    "\t\t\tstrides=(2, 2),\n",
    "\t\t\tpadding=\"same\"))\t\t\t\n",
    "\t\t\t\n",
    "#model.add(Dropout(0.2))\n",
    "\n",
    "\n",
    "#Layer 5------------------------------------------------------------\n",
    "'''model.add(Convolution2D(filters = 64,\n",
    "\t\t\tkernel_size = (2,2),\n",
    "\t\t\tstrides= 1,\n",
    "\t\t\tactivation = \"relu\"))\n",
    "model.add(BatchNormalization())\n",
    "model.add(MaxPooling2D(pool_size=(2, 2),\n",
    "\t\t\tstrides=(2, 2),\n",
    "\t\t\tpadding=\"same\"))\n",
    "\n",
    "'''\n",
    "\n",
    "model.add(Flatten())\n",
    "\n",
    "model.add(Dense(128,\n",
    "\t\tactivation = \"relu\",\n",
    "\t\tkernel_initializer = \"uniform\"))\n",
    "model.add(BatchNormalization())\t\t\t\n",
    "\n",
    "model.add(Dense(64,\n",
    "\t\tactivation = \"relu\",\n",
    "\t\tkernel_initializer = \"uniform\"))\n",
    "model.add(BatchNormalization())\t\t\t\n",
    "\n",
    "model.add(Dense(46,\n",
    "\t\tactivation = \"softmax\",\n",
    "\t\tkernel_initializer = \"uniform\"))\t\t\t\n",
    "\t\t\t\n",
    "model.compile(optimizer = \"adam\",\n",
    "\t\tloss = \"categorical_crossentropy\",\n",
    "\t\tmetrics = [\"accuracy\"])\n",
    "\t\t\n",
    "print(model.summary())\n",
    "\n",
    "res=model.fit(\n",
    "\t\ttrainGenerator,\n",
    "\t\tepochs = 10,\n",
    "\t\tsteps_per_epoch = 2444,\n",
    "\t\tvalidation_data = validation_generator,\n",
    "\t\tvalidation_steps = 432\n",
    "\t\t)\n",
    "\n",
    "%matplotlib inline\n",
    "accu=res.history['accuracy']\n",
    "val_acc=res.history['val_accuracy']\n",
    "loss=res.history['loss']\n",
    "val_loss=res.history['val_loss']\n",
    "\n",
    "epochs=range(10) #No. of epochs"
   ]
  },
  {
   "cell_type": "code",
   "execution_count": 7,
   "id": "e794e620",
   "metadata": {},
   "outputs": [
    {
     "data": {
      "image/png": "[encoded data removed]",
      "text/plain": [
       "<Figure size 640x480 with 1 Axes>"
      ]
     },
     "metadata": {},
     "output_type": "display_data"
    },
    {
     "data": {
      "image/png": "[encoded data removed]",
      "text/plain": [
       "<Figure size 640x480 with 1 Axes>"
      ]
     },
     "metadata": {},
     "output_type": "display_data"
    }
   ],
   "source": [
    "import matplotlib.pyplot as plt\n",
    "plt.plot(epochs,accu,'r',label='Training Accuracy')\n",
    "plt.plot(epochs,val_acc,'g',label='Testing Accuracy')\n",
    "plt.legend()\n",
    "plt.figure()\n",
    "\n",
    "#Plot DA\n",
    "plt.plot(epochs,loss,'r',label='Training Loss')\n",
    "plt.plot(epochs,val_loss,'g',label='Testing Loss')\n",
    "plt.legend()\n",
    "plt.show()\n",
    "\n",
    "model.save(\"MLA.h5\")"
   ]
  },
  {
   "cell_type": "code",
   "execution_count": 10,
   "id": "b323bc18",
   "metadata": {},
   "outputs": [],
   "source": [
    "import keras.preprocessing\n",
    "from keras.models import load_model\n",
    "import numpy as np\n",
    "import argparse\n",
    "import imutils\n",
    "import cv2"
   ]
  },
  {
   "cell_type": "code",
   "execution_count": 11,
   "id": "b808c3b7",
   "metadata": {},
   "outputs": [],
   "source": [
    "''' [\"ka\",\"kha\",\"ga\",\"gha\",\"kna\",\"cha\",\"chha\",\"ja\",\"jha\",\"yna\",\"t`a\",\"t`ha\",\"d`a\",\"d`ha\",\"adna\",\"ta\",\"tha\",\"da\",\"dha\",\"na\",\"pa\",\"pha\",\"ba\",\"bha\",\"ma\",\"yaw\",\"ra\",\"la\",\"waw\",\"sha\",\"shat\",\"sa\",\"ha\",\"aksha\",\"tra\",\"gya\",\"0\",\"1\",\"2\",\"3\",\"4\",\"5\",\"6\",\"7\",\"8\",\"9\"]\n",
    "labels =['yna', 't`aa', 't`haa', 'd`aa', 'd`haa', 'a`dna', 'ta', 'tha', 'da', 'dha', 'ka', 'na', 'pa', 'pha', 'ba', 'bha', 'ma', 'yaw', 'ra', 'la', 'waw', 'kha', 'sha', 'shat', 'sa', 'ha', 'aksha', 'tra', 'gya', 'ga', 'gha', 'kna', 'cha', 'chha', 'ja', 'jha', '0', '1', '2', '3', '4', '5', '6', '7', '8', '9']\n",
    "'''\n",
    "labels = [u'\\u091E',u'\\u091F',u'\\u0920',u'\\u0921',u'\\u0922',u'\\u0923',u'\\u0924',u'\\u0925',u'\\u0926',u'\\u0927',u'\\u0915',u'\\u0928',u'\\u092A',u'\\u092B',u'\\u092c',u'\\u092d',u'\\u092e',u'\\u092f',u'\\u0930',u'\\u0932',u'\\u0935',u'\\u0916',u'\\u0936',u'\\u0937',u'\\u0938',u'\\u0939','ksha','tra','gya',u'\\u0917',u'\\u0918',u'\\u0919',u'\\u091a',u'\\u091b',u'\\u091c',u'\\u091d',u'\\u0966',u'\\u0967',u'\\u0968',u'\\u0969',u'\\u096a',u'\\u096b',u'\\u096c',u'\\u096d',u'\\u096e',u'\\u096f']\n",
    "#"
   ]
  },
  {
   "cell_type": "code",
   "execution_count": 26,
   "id": "19a0c2ba",
   "metadata": {},
   "outputs": [],
   "source": [
    "import numpy as np\n",
    "from keras.preprocessing import image\n",
    "\n",
    "test_image = cv2.imread(\"test4.png\")\n",
    "image = cv2.resize(test_image, (32,32))\n",
    "image = image.astype(\"float\") / 255.0\n",
    "image = tf.keras.utils.img_to_array(image)\n",
    "image = cv2.cvtColor(image, cv2.COLOR_BGR2GRAY)\n",
    "image = np.expand_dims(image, axis=0)\n",
    "image = np.expand_dims(image, axis=3)"
   ]
  },
  {
   "cell_type": "code",
   "execution_count": 27,
   "id": "3ded5326",
   "metadata": {},
   "outputs": [
    {
     "name": "stdout",
     "output_type": "stream",
     "text": [
      "[INFO] loading network...\n",
      "1/1 [==============================] - 0s 111ms/step\n",
      "The letter is  प\n"
     ]
    }
   ],
   "source": [
    "print(\"[INFO] loading network...\")\n",
    "\n",
    "model = tf.keras.models.load_model(\"MLA.h5\")\n",
    "lists = model.predict(image)[0]\n",
    "print(\"The letter is \",labels[np.argmax(lists)])"
   ]
  },
  {
   "cell_type": "code",
   "execution_count": null,
   "id": "2080c2c7",
   "metadata": {},
   "outputs": [],
   "source": []
  }
 ],
 "metadata": {
  "kernelspec": {
   "display_name": "Python 3 (ipykernel)",
   "language": "python",
   "name": "python3"
  },
  "language_info": {
   "codemirror_mode": {
    "name": "ipython",
    "version": 3
   },
   "file_extension": ".py",
   "mimetype": "text/x-python",
   "name": "python",
   "nbconvert_exporter": "python",
   "pygments_lexer": "ipython3",
   "version": "3.9.13"
  }
 },
 "nbformat": 4,
 "nbformat_minor": 5
}
